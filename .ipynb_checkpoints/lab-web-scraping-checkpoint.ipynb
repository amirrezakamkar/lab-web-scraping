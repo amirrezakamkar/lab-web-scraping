{
 "cells": [
  {
   "cell_type": "markdown",
   "id": "7e7a1ab8-2599-417d-9a65-25ef07f3a786",
   "metadata": {
    "id": "7e7a1ab8-2599-417d-9a65-25ef07f3a786"
   },
   "source": [
    "# Lab | Web Scraping"
   ]
  },
  {
   "cell_type": "markdown",
   "id": "ce8882fc-4815-4567-92fa-b4816358ba7d",
   "metadata": {
    "id": "ce8882fc-4815-4567-92fa-b4816358ba7d"
   },
   "source": [
    "Welcome to the \"Books to Scrape\" Web Scraping Adventure Lab!\n",
    "\n",
    "**Objective**\n",
    "\n",
    "In this lab, we will embark on a mission to unearth valuable insights from the data available on Books to Scrape, an online platform showcasing a wide variety of books. As data analyst, you have been tasked with scraping a specific subset of book data from Books to Scrape to assist publishing companies in understanding the landscape of highly-rated books across different genres. Your insights will help shape future book marketing strategies and publishing decisions.\n",
    "\n",
    "**Background**\n",
    "\n",
    "In a world where data has become the new currency, businesses are leveraging big data to make informed decisions that drive success and profitability. The publishing industry, much like others, utilizes data analytics to understand market trends, reader preferences, and the performance of books based on factors such as genre, author, and ratings. Books to Scrape serves as a rich source of such data, offering detailed information about a diverse range of books, making it an ideal platform for extracting insights to aid in informed decision-making within the literary world.\n",
    "\n",
    "**Task**\n",
    "\n",
    "Your task is to create a Python script using BeautifulSoup and pandas to scrape Books to Scrape book data, focusing on book ratings and genres. The script should be able to filter books with ratings above a certain threshold and in specific genres. Additionally, the script should structure the scraped data in a tabular format using pandas for further analysis.\n",
    "\n",
    "**Expected Outcome**\n",
    "\n",
    "A function named `scrape_books` that takes two parameters: `min_rating` and `max_price`. The function should scrape book data from the \"Books to Scrape\" website and return a `pandas` DataFrame with the following columns:\n",
    "\n",
    "**Expected Outcome**\n",
    "\n",
    "- A function named `scrape_books` that takes two parameters: `min_rating` and `max_price`.\n",
    "- The function should return a DataFrame with the following columns:\n",
    "  - **UPC**: The Universal Product Code (UPC) of the book.\n",
    "  - **Title**: The title of the book.\n",
    "  - **Price (£)**: The price of the book in pounds.\n",
    "  - **Rating**: The rating of the book (1-5 stars).\n",
    "  - **Genre**: The genre of the book.\n",
    "  - **Availability**: Whether the book is in stock or not.\n",
    "  - **Description**: A brief description or product description of the book (if available).\n",
    "  \n",
    "You will execute this script to scrape data for books with a minimum rating of `4.0 and above` and a maximum price of `£20`. \n",
    "\n",
    "Remember to experiment with different ratings and prices to ensure your code is versatile and can handle various searches effectively!\n",
    "\n",
    "**Resources**\n",
    "\n",
    "- [Beautiful Soup Documentation](https://www.crummy.com/software/BeautifulSoup/bs4/doc/)\n",
    "- [Pandas Documentation](https://pandas.pydata.org/pandas-docs/stable/index.html)\n",
    "- [Books to Scrape](https://books.toscrape.com/)\n"
   ]
  },
  {
   "cell_type": "markdown",
   "id": "3519921d-5890-445b-9a33-934ed8ee378c",
   "metadata": {
    "id": "3519921d-5890-445b-9a33-934ed8ee378c"
   },
   "source": [
    "**Hint**\n",
    "\n",
    "Your first mission is to familiarize yourself with the **Books to Scrape** website. Navigate to [Books to Scrape](http://books.toscrape.com/) and explore the available books to understand their layout and structure. \n",
    "\n",
    "Next, think about how you can set parameters for your data extraction:\n",
    "\n",
    "- **Minimum Rating**: Focus on books with a rating of 4.0 and above.\n",
    "- **Maximum Price**: Filter for books priced up to £20.\n",
    "\n",
    "After reviewing the site, you can construct a plan for scraping relevant data. Pay attention to the details displayed for each book, including the title, price, rating, and availability. This will help you identify the correct HTML elements to target with your scraping script.\n",
    "\n",
    "Make sure to build your scraping URL and logic based on the patterns you observe in the HTML structure of the book listings!"
   ]
  },
  {
   "cell_type": "markdown",
   "id": "25a83a0d-a742-49f6-985e-e27887cbf922",
   "metadata": {
    "id": "25a83a0d-a742-49f6-985e-e27887cbf922"
   },
   "source": [
    "\n",
    "---\n",
    "\n",
    "**Best of luck! Immerse yourself in the world of books, and may the data be with you!**"
   ]
  },
  {
   "cell_type": "markdown",
   "id": "7b75cf0d-9afa-4eec-a9e2-befeac68b2a0",
   "metadata": {
    "id": "7b75cf0d-9afa-4eec-a9e2-befeac68b2a0"
   },
   "source": [
    "**Important Note**:\n",
    "\n",
    "In the fast-changing online world, websites often update and change their structures. When you try this lab, the **Books to Scrape** website might differ from what you expect.\n",
    "\n",
    "If you encounter issues due to these changes, like new rules or obstacles preventing data extraction, don’t worry! Get creative.\n",
    "\n",
    "You can choose another website that interests you and is suitable for scraping data. Options like Wikipedia, The New York Times, or even library databases are great alternatives. The main goal remains the same: extract useful data and enhance your web scraping skills while exploring a source of information you enjoy. This is your opportunity to practice and adapt to different web environments!"
   ]
  },
  {
   "cell_type": "code",
   "execution_count": 1,
   "id": "40359eee-9cd7-4884-bfa4-83344c222305",
   "metadata": {
    "id": "40359eee-9cd7-4884-bfa4-83344c222305"
   },
   "outputs": [],
   "source": [
    "# Your solution goes here\n",
    "\n",
    "import pandas as pd\n",
    "from bs4 import BeautifulSoup\n",
    "import requests\n",
    "url= \"http://books.toscrape.com/\"\n",
    "response = requests.get(url)\n",
    "soup = BeautifulSoup(response.content, \"html.parser\")"
   ]
  },
  {
   "cell_type": "code",
   "execution_count": 26,
   "id": "eb72b526-1f9e-4da7-aa7d-a36d9d9044ba",
   "metadata": {},
   "outputs": [
    {
     "name": "stdout",
     "output_type": "stream",
     "text": [
      "           name  price  rating\n",
      "0   Set Me Free  17.46       5\n",
      "1   Set Me Free  17.46       5\n",
      "2   Set Me Free  17.46       5\n",
      "3   Set Me Free  17.46       5\n",
      "4   Set Me Free  17.46       5\n",
      "5   Set Me Free  17.46       5\n",
      "6   Set Me Free  17.46       5\n",
      "7   Set Me Free  17.46       5\n",
      "8   Set Me Free  17.46       5\n",
      "9   Set Me Free  17.46       5\n",
      "10  Set Me Free  17.46       5\n",
      "11  Set Me Free  17.46       5\n",
      "12  Set Me Free  17.46       5\n",
      "13  Set Me Free  17.46       5\n",
      "14  Set Me Free  17.46       5\n",
      "15  Set Me Free  17.46       5\n",
      "16  Set Me Free  17.46       5\n",
      "17  Set Me Free  17.46       5\n",
      "18  Set Me Free  17.46       5\n",
      "19  Set Me Free  17.46       5\n",
      "20  Set Me Free  17.46       5\n",
      "21  Set Me Free  17.46       5\n",
      "22  Set Me Free  17.46       5\n",
      "23  Set Me Free  17.46       5\n",
      "24  Set Me Free  17.46       5\n",
      "25  Set Me Free  17.46       5\n",
      "26  Set Me Free  17.46       5\n",
      "27  Set Me Free  17.46       5\n",
      "28  Set Me Free  17.46       5\n",
      "29  Set Me Free  17.46       5\n",
      "30  Set Me Free  17.46       5\n",
      "31  Set Me Free  17.46       5\n",
      "32  Set Me Free  17.46       5\n",
      "33  Set Me Free  17.46       5\n",
      "34  Set Me Free  17.46       5\n",
      "35  Set Me Free  17.46       5\n",
      "36  Set Me Free  17.46       5\n",
      "37  Set Me Free  17.46       5\n",
      "38  Set Me Free  17.46       5\n",
      "39  Set Me Free  17.46       5\n",
      "40  Set Me Free  17.46       5\n",
      "41  Set Me Free  17.46       5\n",
      "42  Set Me Free  17.46       5\n",
      "43  Set Me Free  17.46       5\n",
      "44  Set Me Free  17.46       5\n",
      "45  Set Me Free  17.46       5\n",
      "46  Set Me Free  17.46       5\n",
      "47  Set Me Free  17.46       5\n",
      "48  Set Me Free  17.46       5\n"
     ]
    }
   ],
   "source": [
    "books = []\n",
    "rating_map = {'One': 1, 'Two': 2, 'Three': 3, 'Four': 4, 'Five': 5}\n",
    "def scrape_books(min_rating, max_price):\n",
    "    pages = [f\"http://books.toscrape.com/catalogue/page-{pag}.html\" for pag in range(1,50)]\n",
    "    for page in pages:\n",
    "        for book in soup.find_all('article', class_='product_pod'):\n",
    "            name = book.find('h3').find('a')['title']\n",
    "            price_text = book.find('p', class_='price_color').get_text()\n",
    "            price = float(price_text.strip('£'))\n",
    "    \n",
    "            rating_class = book.find('p', class_='star-rating')['class'][1]\n",
    "            rating = rating_map.get(rating_class, 0)  \n",
    "\n",
    "            if price <= max_price and (rating >= min_rating):\n",
    "                books.append({'name': name, 'price': price, 'rating': rating})\n",
    "    books_df = pd.DataFrame(books)\n",
    "    return books_df\n",
    "    # At this point, we need another for loop to fetch the required data, like UPC, Title, .etc. But since the URL changes for each book,\n",
    "    # and add a specific id for each book to the url i couldn't solve it.\n",
    "    #for book in books:\n",
    "        #url2= \"http://books.toscrape.com/catalogue/{/index.html\"\n",
    "\n",
    "print(scrape_books(4, 20))"
   ]
  },
  {
   "cell_type": "code",
   "execution_count": null,
   "id": "21f3b662-bcb8-4ce7-897c-5684e1afeffd",
   "metadata": {},
   "outputs": [],
   "source": []
  },
  {
   "cell_type": "code",
   "execution_count": null,
   "id": "276d864d-167c-4163-9578-26a28e47a75f",
   "metadata": {},
   "outputs": [],
   "source": []
  },
  {
   "cell_type": "code",
   "execution_count": null,
   "id": "d124ca6a-cd99-4f9f-8924-f2ceaa2d9c7a",
   "metadata": {},
   "outputs": [],
   "source": []
  }
 ],
 "metadata": {
  "colab": {
   "provenance": []
  },
  "kernelspec": {
   "display_name": "Python 3 (ipykernel)",
   "language": "python",
   "name": "python3"
  },
  "language_info": {
   "codemirror_mode": {
    "name": "ipython",
    "version": 3
   },
   "file_extension": ".py",
   "mimetype": "text/x-python",
   "name": "python",
   "nbconvert_exporter": "python",
   "pygments_lexer": "ipython3",
   "version": "3.12.4"
  }
 },
 "nbformat": 4,
 "nbformat_minor": 5
}
